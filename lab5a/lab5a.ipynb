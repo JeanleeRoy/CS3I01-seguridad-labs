{
 "cells": [
  {
   "cell_type": "markdown",
   "metadata": {},
   "source": [
    "# Lab 5a: HashCash  \n",
    "En este lab, vamos a hablar sobre una aplicación de Hashing que se puede usar para combatir el spam. De hecho, no sólo es útil para spam. La función que vamos a ver, llamada HashCash, sirve como base para el algoritmo de consenso que se utiliza en BitCoin, un método que comúnmente se denomina como Proof-of-Work, ya que requiere cierta cantidad de \"trabajo\" promedio para calcular. Vamos a implementar esta función y analizar un poco el trabajo que se requiere para calcularla.  \n",
    "  \n",
    "Para empezar, lee las primeras 3 secciones de este documento: http://www.hashcash.org/papers/hashcash.pdf  \n",
    "  \n",
    "En el documento mencionan que el string a calcular normalmente se agrega a un string basado en el servicio que se está usando. También se le agregan otros detalles, como la versión de la función, el número de bits a chequear, un timestamp, y algún denominador del servicio/usuario. Debajo hay algunos ejemplos de cómo se ve un formato de string de HashCash en la vida real. Vamos a usar SHA-1 como el Hash.  \n",
    "  \n",
    "Ejemplo de formato de HashCash:"
   ]
  },
  {
   "cell_type": "code",
   "execution_count": 1,
   "metadata": {},
   "outputs": [
    {
     "data": {
      "text/plain": [
       "'0ec57d01555bb613eeb6a3c20a0fcc64ef581794'"
      ]
     },
     "execution_count": 1,
     "metadata": {},
     "output_type": "execute_result"
    }
   ],
   "source": [
    "from cryptography.hazmat.primitives import hashes\n",
    "import time\n",
    "import random\n",
    "\n",
    "def hash(msg: str):\n",
    "\tdigest = hashes.Hash(hashes.SHA1())\n",
    "\tdigest.update(msg.encode(\"unicode_escape\"))\n",
    "\treturn digest.finalize().hex()\n",
    "\n",
    "example = \"1:20:1303030600:jpazos@utec.edu.pe::McMybZIhxKXu57jd:ckvi\"\n",
    "\n",
    "hash(example)"
   ]
  },
  {
   "cell_type": "markdown",
   "metadata": {},
   "source": [
    "## Ejemplo de verificación correcta de hash. Se tienen 24 0-bits según el string, y el hash tiene 6 0s en hex."
   ]
  },
  {
   "cell_type": "code",
   "execution_count": 10,
   "metadata": {},
   "outputs": [
    {
     "data": {
      "text/plain": [
       "'0000008e3caaff34c595a55f7cc53c6b1cd385d1'"
      ]
     },
     "execution_count": 10,
     "metadata": {},
     "output_type": "execute_result"
    }
   ],
   "source": [
    "hash(\"1:24:040806:foo::511801694b4cd6b0:1e7297a\")"
   ]
  },
  {
   "cell_type": "markdown",
   "metadata": {},
   "source": [
    "# Ejercicio: implementa la versión recursiva de HashCash.  \n",
    "Puedes verificar que funciona calculando el hash y verificando que tiene la cantidad\n",
    "de bits deseada. Nota que estamos trabajando con Hex por ahora, entonces pueden haber más bits de 0 de los necesarios, pero con tal que\n",
    "hayan por lo menos 8 (o los que especifiques) sería correcto."
   ]
  },
  {
   "cell_type": "code",
   "execution_count": 4,
   "metadata": {},
   "outputs": [],
   "source": [
    "def getBaseString(*args):\n",
    "\tresult = \"\"\n",
    "\tfor s in args:\n",
    "\t\tresult += str(s) + \":\"\n",
    "\treturn result[:-1]\n",
    "\n",
    "def recursiveHashCash(ver: int, bits: int, resource: str, iv: str, ctr: int):\n",
    "\tcurTime = str(int(time.time()))\n",
    "\tbaseStr = str(ver) + ':' + str(bits) + ':' + curTime + ':' + resource + ':' + iv + ':' + str(ctr);\n",
    "\thashed = hash(baseStr)\n",
    "\n",
    "\tif hashed[:bits] == \"0\"*bits:\n",
    "\t\treturn hashed\n",
    "\telse:\n",
    "\t\treturn recursiveHashCash(ver, bits, resource, iv, ctr)\n",
    "\n",
    "def checkBits(baseStr: str, bits: int):\n",
    "\thashed = hash(baseStr)\n",
    "\tbitCheck = bits//4\n",
    "\treturn hashed[:bitCheck] == \"0\"*bitCheck\n"
   ]
  },
  {
   "cell_type": "code",
   "execution_count": null,
   "metadata": {},
   "outputs": [],
   "source": [
    "version = 1\n",
    "bits = 2\n",
    "resource = \"UTECSecurity\"\n",
    "\n",
    "res = recursiveHashCash(version,bits,resource,str(random.randint(1e17,1e18)),0)\n",
    "print(res)\n",
    "print(hash(res))"
   ]
  },
  {
   "cell_type": "markdown",
   "metadata": {},
   "source": [
    "## Ejercicio: Trata aumentando la cantidad de bits, ¿qué pasa? Lamentablemente python nos empieza a fallar. ¿Qué pasa si tratas de agregar tail recursion?"
   ]
  },
  {
   "cell_type": "code",
   "execution_count": 3,
   "metadata": {},
   "outputs": [],
   "source": [
    "from tail_recursion import tail_recursive, recurse\n",
    "\n",
    "@tail_recursive\n",
    "def tailRecursiveHashCash(ver: int, bits: int, resource: str, iv: str, ctr: int):\n",
    "    curTime = str(int(time.time()))\n",
    "    baseStr = str(ver) + ':' + str(bits) + ':' + curTime + ':' + resource + ':' + iv + ':' + str(ctr)\n",
    "    hashed = hash(baseStr)\n",
    "\n",
    "    if hashed[:bits] == \"0\"*bits:\n",
    "        return hashed\n",
    "    recurse(ver, bits, resource, iv, ctr)"
   ]
  },
  {
   "cell_type": "code",
   "execution_count": null,
   "metadata": {},
   "outputs": [],
   "source": [
    "version = 1\n",
    "bits = 2\n",
    "resource = \"UTECSecurity\"\n",
    "\n",
    "res = tailRecursiveHashCash(version,bits,resource,str(random.randint(1e17,1e18)),0)\n",
    "print(res)\n",
    "print(hash(res))"
   ]
  },
  {
   "cell_type": "markdown",
   "metadata": {},
   "source": [
    "## Ejercicio: Para librarnos del problema anterior, podemos usar iteration. Implementa una versión iterativa de HashCash."
   ]
  },
  {
   "cell_type": "code",
   "execution_count": null,
   "metadata": {},
   "outputs": [],
   "source": [
    "def iterativeHashCash(ver: int, bits: int, resource: str, iv: str, ctr: int):\n",
    "\thashed = ''\n",
    "\twhile True:\n",
    "\t\tcurTime = int(time.time())\n",
    "\t\tbaseStr = getBaseString(ver, bits, curTime, resource, iv, ctr)\n",
    "\t\thashed = hash(baseStr)\n",
    "\t\tif hashed[:bits] == \"0\"*bits:\n",
    "\t\t\tbreak\n",
    "\treturn hashed\n",
    "\n",
    "version = 1\n",
    "bits = 4\n",
    "resource = \"UTECSecurity\"\n",
    "\n",
    "res = iterativeHashCash(version,bits,resource,str(random.randint(1e17,1e18)),0)\n",
    "print(res)\n",
    "print(hash(res))"
   ]
  },
  {
   "cell_type": "markdown",
   "metadata": {},
   "source": [
    "## Ejercicio: Ahora que podemos correr la función con más bits, probemos el performance conforme incrementemos los bits. "
   ]
  },
  {
   "cell_type": "code",
   "execution_count": null,
   "metadata": {},
   "outputs": [],
   "source": [
    "for i in range(4,28,4):\n",
    "\tprint(\"=\"*10,\"\\n\",i,\"bits:\")\n",
    "\t%time _"
   ]
  },
  {
   "cell_type": "markdown",
   "metadata": {},
   "source": [
    "Lamentablemente, trabajar con hex nos limita bastante, ya que solo podemos incrementar la cantidad de bits de a 4.  \n",
    "Queremos poder incrementar de a 1 para poder calcular mejor el cambio en tiempos mientras incrementamos los bits.  \n",
    "  \n",
    "# Ejercicio: Implementar de iterativeHashCashPartial y CheckBitsPartial, que permite analizar el ByteArray, de modo que podamos incrementar bit por bit la dificultad de HashCash."
   ]
  },
  {
   "cell_type": "code",
   "execution_count": null,
   "metadata": {},
   "outputs": [],
   "source": [
    "def hextobin(h):\n",
    "  return bin(int(h, 16))[2:].zfill(len(h) * 4)\n",
    "\n",
    "def iterativeHashCashPartial(ver: int, bits: int, resource: str, iv: str, ctr: int):\n",
    "\tbaseStr = _\n",
    "\n",
    "\twhile not _\n",
    "\t\t_\n",
    "\t\n",
    "\treturn _\n",
    "\n",
    "def checkBitsPartial(baseStr: str, bits: int):\n",
    "\t\n",
    "\treturn _\n",
    "\n",
    "res = iterativeHashCashPartial(version,6,resource,str(random.randint(1e17,1e18)),0)\n",
    "print(res)\n",
    "print(hash(res))\n",
    "print(hextobin(hash(res)))"
   ]
  },
  {
   "cell_type": "markdown",
   "metadata": {},
   "source": [
    "# Calcular tiempo para diferentes 0-bit-strings."
   ]
  },
  {
   "cell_type": "code",
   "execution_count": null,
   "metadata": {},
   "outputs": [],
   "source": [
    "for i in range(24):\n",
    "\tprint(\"=\"*10,\"\\n\",i,\"bits:\")\n",
    "\t%time _"
   ]
  },
  {
   "cell_type": "markdown",
   "metadata": {},
   "source": [
    "# Ejercicio: Dibuja un gráfico de los tiempos con distintas cantidades de bits a chekear. ¿Se ve como esperarías? ¿Por qué hay diferencias?\n",
    "Puedes usar librerias como matplotlib o seaborn"
   ]
  },
  {
   "cell_type": "code",
   "execution_count": null,
   "metadata": {},
   "outputs": [],
   "source": []
  },
  {
   "cell_type": "markdown",
   "metadata": {},
   "source": [
    "# Ejercicio: Una de las aplicaciones que se tenía en mente originalmente para HashCash era combatir el Spam en email. Describe cómo se podría utilizar HashCash para ayudar con este problema."
   ]
  },
  {
   "cell_type": "markdown",
   "metadata": {},
   "source": []
  },
  {
   "cell_type": "markdown",
   "metadata": {},
   "source": [
    "# Bonus:  Bitcoin, una de las aplicaciones que hace uso de HashCash usa la función SHA-256 para hacer hashing. También se usan IVs y contadores más grandes (alrededor de 64 bytes cada uno) para evitar la probabilidad de reuso de un IV. Extiende la longitud de los IVs y el CTR en tus cálculos y compara las diferencia de tiempo. ¿Es significativa?"
   ]
  },
  {
   "cell_type": "code",
   "execution_count": null,
   "metadata": {},
   "outputs": [],
   "source": []
  },
  {
   "cell_type": "markdown",
   "metadata": {},
   "source": [
    "# Bonus: Ejercicio: Bitcoin mantiene una dificultad de hashing de modo que un bloque sea agregado al Blockchain mas o menos cada 10 minutos. Usando la extensión del problema anterior, y asumiendo una escala teórica del incremento del tiempo, ¿más o menos qué longitud debería tener el string de 0s para que demore 10 minutos encontrar una solución según tus tiempos?"
   ]
  }
 ],
 "metadata": {
  "interpreter": {
   "hash": "e30d083940a7e396050ca29a7630e8d4778685a5129aa59b52086bdd3fd8d501"
  },
  "kernelspec": {
   "display_name": "Python 3.10.0 64-bit",
   "language": "python",
   "name": "python3"
  },
  "language_info": {
   "codemirror_mode": {
    "name": "ipython",
    "version": 3
   },
   "file_extension": ".py",
   "mimetype": "text/x-python",
   "name": "python",
   "nbconvert_exporter": "python",
   "pygments_lexer": "ipython3",
   "version": "3.9.7"
  },
  "orig_nbformat": 4
 },
 "nbformat": 4,
 "nbformat_minor": 2
}
