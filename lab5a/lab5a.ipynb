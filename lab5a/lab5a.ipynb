{
  "cells": [
    {
      "cell_type": "markdown",
      "metadata": {
        "id": "view-in-github",
        "colab_type": "text"
      },
      "source": [
        "<a href=\"https://colab.research.google.com/github/JeanleeRoy/CS3I01-seguridad-labs/blob/master/lab5a/lab5a.ipynb\" target=\"_parent\"><img src=\"https://colab.research.google.com/assets/colab-badge.svg\" alt=\"Open In Colab\"/></a>"
      ]
    },
    {
      "cell_type": "markdown",
      "metadata": {
        "id": "ahfKYb0eK1L_"
      },
      "source": [
        "# Lab 5a: HashCash  \n",
        "En este lab, vamos a hablar sobre una aplicación de Hashing que se puede usar para combatir el spam. De hecho, no sólo es útil para spam. La función que vamos a ver, llamada HashCash, sirve como base para el algoritmo de consenso que se utiliza en BitCoin, un método que comúnmente se denomina como Proof-of-Work, ya que requiere cierta cantidad de \"trabajo\" promedio para calcular. Vamos a implementar esta función y analizar un poco el trabajo que se requiere para calcularla.  \n",
        "  \n",
        "Para empezar, lee las primeras 3 secciones de este documento: http://www.hashcash.org/papers/hashcash.pdf  \n",
        "  \n",
        "En el documento mencionan que el string a calcular normalmente se agrega a un string basado en el servicio que se está usando. También se le agregan otros detalles, como la versión de la función, el número de bits a chequear, un timestamp, y algún denominador del servicio/usuario. Debajo hay algunos ejemplos de cómo se ve un formato de string de HashCash en la vida real. Vamos a usar SHA-1 como el Hash.  \n",
        "  \n",
        "Ejemplo de formato de HashCash:"
      ]
    },
    {
      "cell_type": "code",
      "source": [
        "!pip install cryptography"
      ],
      "metadata": {
        "id": "oEtAR7QNK5HJ"
      },
      "execution_count": null,
      "outputs": []
    },
    {
      "cell_type": "code",
      "execution_count": 2,
      "metadata": {
        "colab": {
          "base_uri": "https://localhost:8080/",
          "height": 35
        },
        "id": "2RKXLiP_K1MH",
        "outputId": "657dda90-0319-46dd-e9da-83632966f6b5"
      },
      "outputs": [
        {
          "output_type": "execute_result",
          "data": {
            "text/plain": [
              "'0ec57d01555bb613eeb6a3c20a0fcc64ef581794'"
            ],
            "application/vnd.google.colaboratory.intrinsic+json": {
              "type": "string"
            }
          },
          "metadata": {},
          "execution_count": 2
        }
      ],
      "source": [
        "from cryptography.hazmat.primitives import hashes\n",
        "import matplotlib.pyplot as plt\n",
        "import time\n",
        "import random\n",
        "import math\n",
        "\n",
        "def hash(msg: str):\n",
        "\tdigest = hashes.Hash(hashes.SHA1())\n",
        "\tdigest.update(msg.encode(\"unicode_escape\"))\n",
        "\treturn digest.finalize().hex()\n",
        "\n",
        "example = \"1:20:1303030600:jpazos@utec.edu.pe::McMybZIhxKXu57jd:ckvi\"\n",
        "\n",
        "hash(example)"
      ]
    },
    {
      "cell_type": "markdown",
      "metadata": {
        "id": "bSRFg79DK1MK"
      },
      "source": [
        "## Ejemplo de verificación correcta de hash. Se tienen 24 0-bits según el string, y el hash tiene 6 0s en hex."
      ]
    },
    {
      "cell_type": "code",
      "execution_count": 3,
      "metadata": {
        "colab": {
          "base_uri": "https://localhost:8080/",
          "height": 35
        },
        "id": "x4JjthQ_K1MM",
        "outputId": "6fb74205-e3fe-45fa-b532-d8654fc0150c"
      },
      "outputs": [
        {
          "output_type": "execute_result",
          "data": {
            "text/plain": [
              "'0000008e3caaff34c595a55f7cc53c6b1cd385d1'"
            ],
            "application/vnd.google.colaboratory.intrinsic+json": {
              "type": "string"
            }
          },
          "metadata": {},
          "execution_count": 3
        }
      ],
      "source": [
        "hash(\"1:24:040806:foo::511801694b4cd6b0:1e7297a\")"
      ]
    },
    {
      "cell_type": "markdown",
      "metadata": {
        "id": "yuWRen-bK1MN"
      },
      "source": [
        "# Ejercicio: implementa la versión recursiva de HashCash.  \n",
        "Puedes verificar que funciona calculando el hash y verificando que tiene la cantidad\n",
        "de bits deseada. Nota que estamos trabajando con Hex por ahora, entonces pueden haber más bits de 0 de los necesarios, pero con tal que\n",
        "hayan por lo menos 8 (o los que especifiques) sería correcto."
      ]
    },
    {
      "cell_type": "code",
      "execution_count": 4,
      "metadata": {
        "id": "skQqBQ1PK1MO"
      },
      "outputs": [],
      "source": [
        "def recursiveHashCash(ver: int, bits: int, resource: str, iv: str, ctr: int):\n",
        "\tcurTime = str(int(time.time()) + int(random.random()*10**7))\n",
        "\tbaseStr = makeBaseStr(ver, bits, curTime, resource, iv, ctr)\n",
        "\thashed = hash(baseStr)\n",
        "\n",
        "\tif checkBits(hashed, bits):\n",
        "\t\treturn hashed\n",
        "\telse:\n",
        "\t\treturn recursiveHashCash(ver, bits, resource, iv, ctr)\n",
        "\n",
        "def makeBaseStr(*args):\n",
        "\treturn ':'.join([str(s) for s in args])\n",
        "\n",
        "def checkBits(hashed: str, bits: int):\n",
        "\tbitCheck = bits//4\n",
        "\treturn hashed[:bitCheck] == \"0\"*bitCheck\n"
      ]
    },
    {
      "cell_type": "code",
      "execution_count": 5,
      "metadata": {
        "colab": {
          "base_uri": "https://localhost:8080/"
        },
        "id": "AePHhIK5K1MQ",
        "outputId": "9c964f39-b2db-4644-8344-0c125171b381"
      },
      "outputs": [
        {
          "output_type": "stream",
          "name": "stdout",
          "text": [
            "0046cec76694df0f938d593f399f7334559f5eae\n",
            "020116a0b6a2dcd250966deb14f896d855268bcc\n"
          ]
        }
      ],
      "source": [
        "version = 1\n",
        "bits = 8\n",
        "resource = \"UTECSecurity\"\n",
        "\n",
        "res = recursiveHashCash(version,bits,resource,str(random.randint(1e17,1e18)),0)\n",
        "print(res)\n",
        "print(hash(res))"
      ]
    },
    {
      "cell_type": "markdown",
      "metadata": {
        "id": "GB4iKLGQK1MR"
      },
      "source": [
        "## Ejercicio: Trata aumentando la cantidad de bits, ¿qué pasa? Lamentablemente python nos empieza a fallar. ¿Qué pasa si tratas de agregar tail recursion?"
      ]
    },
    {
      "cell_type": "code",
      "source": [
        "# tail_recursion: code taken from https://chrispenner.ca/posts/python-tail-recursion\n",
        "class Recurse(Exception):\n",
        "    def __init__(self, *args, **kwargs):\n",
        "        self.args = args\n",
        "        self.kwargs = kwargs\n",
        "\n",
        "def recurse(*args, **kwargs):\n",
        "    raise Recurse(*args, **kwargs)\n",
        "        \n",
        "def tail_recursive(f):\n",
        "    def decorated(*args, **kwargs):\n",
        "        while True:\n",
        "            try:\n",
        "                return f(*args, **kwargs)\n",
        "            except Recurse as r:\n",
        "                args = r.args\n",
        "                kwargs = r.kwargs\n",
        "                continue\n",
        "    return decorated"
      ],
      "metadata": {
        "id": "z9ZH4wNyM8Yf"
      },
      "execution_count": 6,
      "outputs": []
    },
    {
      "cell_type": "code",
      "execution_count": 12,
      "metadata": {
        "id": "xUclvAV_K1MT"
      },
      "outputs": [],
      "source": [
        "# Apply tail recursion\n",
        "@tail_recursive\n",
        "def tailRecursiveHashCash(ver: int, bits: int, resource: str, iv: str, ctr: int):\n",
        "    curTime = str(int(time.time()) + int(random.random()*10**7))\n",
        "    baseStr = str(ver) + ':' + str(bits) + ':' + curTime + ':' + resource + ':' + iv + ':' + str(ctr)\n",
        "    hashed = hash(baseStr)\n",
        "\n",
        "    if checkBits(hashed, bits):\n",
        "        return hashed\n",
        "    recurse(ver, bits, resource, iv, ctr)"
      ]
    },
    {
      "cell_type": "code",
      "execution_count": 13,
      "metadata": {
        "id": "sLQ5OTSiK1MT",
        "colab": {
          "base_uri": "https://localhost:8080/"
        },
        "outputId": "ec2a6722-aa5e-44fb-e36a-feca763f2425"
      },
      "outputs": [
        {
          "output_type": "stream",
          "name": "stdout",
          "text": [
            "0015b97983c532d934ce3f900dc70ea3df658d3f\n",
            "471097770cea6c8761ec687e2fc67eb409989d29\n"
          ]
        }
      ],
      "source": [
        "version = 1\n",
        "bits = 8\n",
        "resource = \"UTECSecurity\"\n",
        "\n",
        "res = tailRecursiveHashCash(version,bits,resource,str(random.randint(1e17,1e18)),0)\n",
        "print(res)\n",
        "print(hash(res))"
      ]
    },
    {
      "cell_type": "markdown",
      "metadata": {
        "id": "mexd_lQeK1MU"
      },
      "source": [
        "## Ejercicio: Para librarnos del problema anterior, podemos usar iteration. Implementa una versión iterativa de HashCash."
      ]
    },
    {
      "cell_type": "code",
      "execution_count": 15,
      "metadata": {
        "colab": {
          "base_uri": "https://localhost:8080/"
        },
        "id": "35JnUfE4K1MV",
        "outputId": "3987e404-2a27-40c0-a797-0abd1d811706"
      },
      "outputs": [
        {
          "output_type": "stream",
          "name": "stdout",
          "text": [
            "00009cb0752acebc1d0970b7356e988bea05cbc9\n",
            "19625e0aa27c0768ad7436f817174f50f2c50aa2\n"
          ]
        }
      ],
      "source": [
        "def iterativeHashCash(ver: int, bits: int, resource: str, iv: str, ctr: int):\n",
        "\t#assert(bits >= 4), \"bits provided can't be lower than 4\"\n",
        "\twhile True:\n",
        "\t\tcurTime = int(time.time()) + int(random.random()*10**8)\n",
        "\t\tbaseStr = makeBaseStr(ver, bits, curTime, resource, iv, ctr)\n",
        "\t\thashed = hash(baseStr)\n",
        "\t\tif checkBits(hashed, bits):\n",
        "\t\t\treturn hashed\n",
        "\n",
        "version = 1\n",
        "bits = 16\n",
        "resource = \"UTECSecurity\"\n",
        "\n",
        "res = iterativeHashCash(version,bits,resource,random.randint(1e17,1e18),0)\n",
        "print(res)\n",
        "print(hash(res))"
      ]
    },
    {
      "cell_type": "markdown",
      "metadata": {
        "id": "Oq_OJ65nK1MY"
      },
      "source": [
        "## Ejercicio: Ahora que podemos correr la función con más bits, probemos el performance conforme incrementemos los bits. "
      ]
    },
    {
      "cell_type": "code",
      "execution_count": 16,
      "metadata": {
        "id": "uK5v7ljlK1MZ",
        "colab": {
          "base_uri": "https://localhost:8080/"
        },
        "outputId": "f4c5117a-9dd4-4a77-8350-2e8b185f61bc"
      },
      "outputs": [
        {
          "output_type": "stream",
          "name": "stdout",
          "text": [
            "========== \n",
            " 4 bits:\n",
            "CPU times: user 1.47 ms, sys: 6 µs, total: 1.48 ms\n",
            "Wall time: 1.49 ms\n",
            "========== \n",
            " 8 bits:\n",
            "CPU times: user 4.7 ms, sys: 0 ns, total: 4.7 ms\n",
            "Wall time: 4.78 ms\n",
            "========== \n",
            " 12 bits:\n",
            "CPU times: user 423 ms, sys: 2.98 ms, total: 426 ms\n",
            "Wall time: 429 ms\n",
            "========== \n",
            " 16 bits:\n",
            "CPU times: user 335 ms, sys: 986 µs, total: 336 ms\n",
            "Wall time: 341 ms\n",
            "========== \n",
            " 20 bits:\n",
            "CPU times: user 28.4 s, sys: 68.3 ms, total: 28.4 s\n",
            "Wall time: 28.4 s\n",
            "========== \n",
            " 24 bits:\n",
            "CPU times: user 7min 4s, sys: 1 s, total: 7min 5s\n",
            "Wall time: 7min 5s\n"
          ]
        }
      ],
      "source": [
        "resource = \"UTECSecurity\"\n",
        "for i in range(4,28,4):\n",
        "\tprint(\"=\"*10,\"\\n\",i,\"bits:\")\n",
        "\t%time iterativeHashCash(1,i,resource,random.randint(1e17,1e18),0)"
      ]
    },
    {
      "cell_type": "markdown",
      "metadata": {
        "id": "INKI3odJK1Ma"
      },
      "source": [
        "Lamentablemente, trabajar con hex nos limita bastante, ya que solo podemos incrementar la cantidad de bits de a 4.  \n",
        "Queremos poder incrementar de a 1 para poder calcular mejor el cambio en tiempos mientras incrementamos los bits.  \n",
        "  \n",
        "# Ejercicio: Implementar de iterativeHashCashPartial y CheckBitsPartial, que permite analizar el ByteArray, de modo que podamos incrementar bit por bit la dificultad de HashCash."
      ]
    },
    {
      "cell_type": "code",
      "execution_count": 17,
      "metadata": {
        "colab": {
          "base_uri": "https://localhost:8080/"
        },
        "id": "KSKlFm0tK1Ma",
        "outputId": "f6b9b06e-7893-4a43-d251-6b645cac16e4"
      },
      "outputs": [
        {
          "output_type": "stream",
          "name": "stdout",
          "text": [
            "004b2419240a51d52c9ef0063f4104688ac78832\n",
            "1425d8f23586ac4be994cc0254c2d036e7ec55ab\n",
            "0000000001001011001001000001100100100100000010100101000111010101001011001001111011110000000001100011111101000001000001000110100010001010110001111000100000110010\n",
            "0001010000100101110110001111001000110101100001101010110001001011111010011001010011001100000000100101010011000010110100000011011011100111111011000101010110101011\n"
          ]
        }
      ],
      "source": [
        "def hextobin(h):\n",
        "  return bin(int(h, 16))[2:].zfill(len(h) * 4)\n",
        "\n",
        "def getRTime():\n",
        "\treturn int(time.time())+int(random.random()*10**8)\n",
        "\n",
        "def iterativeHashCashPartial(ver: int, bits: int, resource: str, iv: str, ctr: int):\n",
        "\twhile True:\n",
        "\t\tbaseStr = makeBaseStr(ver, bits, getRTime(), resource, iv, ctr)\n",
        "\t\thashed = hash(baseStr)\n",
        "\t\tif checkBitsPartial(hashed, bits):\n",
        "\t\t\treturn hashed\n",
        "\n",
        "def checkBitsPartial(hashed: str, bits: int):\n",
        "\tbHashed = hextobin(hashed)\n",
        "\treturn bHashed[:bits] == \"0\"*bits\n",
        "\n",
        "res = iterativeHashCashPartial(1,6,resource,str(random.randint(1e17,1e18)),0)\n",
        "print(res)\n",
        "print(hash(res))\n",
        "print(hextobin(res))\n",
        "print(hextobin(hash(res)))"
      ]
    },
    {
      "cell_type": "markdown",
      "metadata": {
        "id": "FL5ZM8ewK1Mb"
      },
      "source": [
        "# Calcular tiempo para diferentes 0-bit-strings."
      ]
    },
    {
      "cell_type": "code",
      "execution_count": 18,
      "metadata": {
        "id": "GS23gdlfK1Mc",
        "colab": {
          "base_uri": "https://localhost:8080/"
        },
        "outputId": "35300b98-94d1-4310-8533-8c6f784b0468"
      },
      "outputs": [
        {
          "output_type": "stream",
          "name": "stdout",
          "text": [
            "========== \n",
            " 0 bits:\n",
            "CPU times: user 226 µs, sys: 1e+03 ns, total: 227 µs\n",
            "Wall time: 234 µs\n",
            "========== \n",
            " 1 bits:\n",
            "CPU times: user 259 µs, sys: 0 ns, total: 259 µs\n",
            "Wall time: 265 µs\n",
            "========== \n",
            " 2 bits:\n",
            "CPU times: user 180 µs, sys: 0 ns, total: 180 µs\n",
            "Wall time: 184 µs\n",
            "========== \n",
            " 3 bits:\n",
            "CPU times: user 179 µs, sys: 0 ns, total: 179 µs\n",
            "Wall time: 183 µs\n",
            "========== \n",
            " 4 bits:\n",
            "CPU times: user 344 µs, sys: 0 ns, total: 344 µs\n",
            "Wall time: 348 µs\n",
            "========== \n",
            " 5 bits:\n",
            "CPU times: user 3.74 ms, sys: 3 µs, total: 3.74 ms\n",
            "Wall time: 3.55 ms\n",
            "========== \n",
            " 6 bits:\n",
            "CPU times: user 2.13 ms, sys: 0 ns, total: 2.13 ms\n",
            "Wall time: 1.67 ms\n",
            "========== \n",
            " 7 bits:\n",
            "CPU times: user 5.13 ms, sys: 0 ns, total: 5.13 ms\n",
            "Wall time: 4.64 ms\n",
            "========== \n",
            " 8 bits:\n",
            "CPU times: user 9.82 ms, sys: 0 ns, total: 9.82 ms\n",
            "Wall time: 9.27 ms\n",
            "========== \n",
            " 9 bits:\n",
            "CPU times: user 3.88 ms, sys: 4 µs, total: 3.88 ms\n",
            "Wall time: 3.05 ms\n",
            "========== \n",
            " 10 bits:\n",
            "CPU times: user 7.8 ms, sys: 4 µs, total: 7.8 ms\n",
            "Wall time: 7.12 ms\n",
            "========== \n",
            " 11 bits:\n",
            "CPU times: user 49 ms, sys: 4 µs, total: 49 ms\n",
            "Wall time: 48.3 ms\n",
            "========== \n",
            " 12 bits:\n",
            "CPU times: user 13.4 ms, sys: 2 µs, total: 13.4 ms\n",
            "Wall time: 12.7 ms\n",
            "========== \n",
            " 13 bits:\n",
            "CPU times: user 116 ms, sys: 1 ms, total: 117 ms\n",
            "Wall time: 116 ms\n",
            "========== \n",
            " 14 bits:\n",
            "CPU times: user 187 ms, sys: 2.01 ms, total: 189 ms\n",
            "Wall time: 189 ms\n",
            "========== \n",
            " 15 bits:\n",
            "CPU times: user 1.1 s, sys: 4.01 ms, total: 1.11 s\n",
            "Wall time: 1.11 s\n",
            "========== \n",
            " 16 bits:\n",
            "CPU times: user 616 ms, sys: 3 ms, total: 619 ms\n",
            "Wall time: 620 ms\n",
            "========== \n",
            " 17 bits:\n",
            "CPU times: user 3.31 s, sys: 8.03 ms, total: 3.32 s\n",
            "Wall time: 3.32 s\n",
            "========== \n",
            " 18 bits:\n",
            "CPU times: user 15.4 s, sys: 30 ms, total: 15.4 s\n",
            "Wall time: 15.4 s\n",
            "========== \n",
            " 19 bits:\n",
            "CPU times: user 57.2 s, sys: 170 ms, total: 57.4 s\n",
            "Wall time: 57.3 s\n"
          ]
        }
      ],
      "source": [
        "resource = \"UTECSecurity\"\n",
        "max_bits = 20\n",
        "for i in range(max_bits):\n",
        "\tprint(\"=\"*10,\"\\n\",i,\"bits:\")\n",
        "\t%time iterativeHashCashPartial(version,i,resource,random.randint(1e17,1e18),0)"
      ]
    },
    {
      "cell_type": "markdown",
      "metadata": {
        "id": "JiXE67c2K1Mc"
      },
      "source": [
        "# Ejercicio: Dibuja un gráfico de los tiempos con distintas cantidades de bits a chekear. ¿Se ve como esperarías? ¿Por qué hay diferencias?\n",
        "Puedes usar librerias como matplotlib o seaborn"
      ]
    },
    {
      "cell_type": "code",
      "source": [
        "def plotBars(x,y,y_label):\n",
        "    plt.bar(x,y)\n",
        "    plt.xlabel('n bits')\n",
        "    plt.ylabel(y_label+\"(us)\")\n",
        "    plt.title(f\"Grafico bits vs {y_label}\")\n",
        "    plt.xticks(range(0,max_bits))\n",
        "    plt.show()"
      ],
      "metadata": {
        "id": "BrAnji5Bq1fR"
      },
      "execution_count": null,
      "outputs": []
    },
    {
      "cell_type": "code",
      "source": [
        "x = []\n",
        "y = []\n",
        "ylog = []\n",
        "for i in range(20):\n",
        "    x.append(i)\n",
        "    start = time.time()\n",
        "    iterativeHashCashPartial(version,i,resource,random.randint(1e17,1e18),0)\n",
        "    end = time.time()\n",
        "    diff = (end-start)*1000_000\n",
        "    y.append(diff)\n",
        "    ylog.append(math.log(diff,10))\n",
        "\n",
        "plotBars(x,y,\"Tiempo\")\n",
        "print()\n",
        "plotBars(x,ylog,\"Tiempo log\")"
      ],
      "metadata": {
        "colab": {
          "base_uri": "https://localhost:8080/",
          "height": 591
        },
        "id": "93GzZc6Um4BX",
        "outputId": "708c17aa-e66b-4e50-8ac0-815863ddad63"
      },
      "execution_count": null,
      "outputs": [
        {
          "output_type": "display_data",
          "data": {
            "text/plain": [
              "<Figure size 432x288 with 1 Axes>"
            ],
            "image/png": "[encoded data removed]"
          },
          "metadata": {
            "needs_background": "light"
          }
        },
        {
          "output_type": "stream",
          "name": "stdout",
          "text": [
            "\n"
          ]
        },
        {
          "output_type": "display_data",
          "data": {
            "text/plain": [
              "<Figure size 432x288 with 1 Axes>"
            ],
            "image/png": "[encoded data removed]"
          },
          "metadata": {
            "needs_background": "light"
          }
        }
      ]
    },
    {
      "cell_type": "markdown",
      "source": [
        "### Respuesta\n",
        "Como se puede apreciar en la primera gráfica, la diferencia de tiempo que toma realizar el hashing con 1 solo cero inicial y 19 ceros es muy grande. Debido a esta gran diferencia el tiempo para pocos bits de ceros es casi imperceptible en comparación a los tiempos con una cantidad mayor a 12 bits.\n",
        "\n",
        "Para poder visualizar mejor el tiempo según la cantidad de bits, en la segunda gráfica se puede apreciar el tiempo con una transformación logrítmica. Esta gráfica nos da una idea más clara de la tendencia que siguen los datos.\n",
        "\n",
        "Esa tendencia ascendente es el comportamiento que se esperaba, sin embargo, se puede observar que en algunos casos dicha tendencia no se cumple. Eso se evidencia en el salto que hay de 15 bits a 16 bits. Una razón que puede explicar esto es que los hashes creados presentan una estructura casi aleatoria y son algo caóticos. Situación que puede llegar a influir grandemente al momento de validar los bits iniciales del hash.\n",
        "\n",
        "Entonces, en teoría, mientras mayor sea la cantidad de bits iniciales de un hash con ceros esperados, mayor será el tiempo en poder crearlo. En la práctica, está creación puede no seguir esta tendencia descrita debido a la propia naturaleza caótica de los hashes."
      ],
      "metadata": {
        "id": "wXpOPiotgKUK"
      }
    },
    {
      "cell_type": "markdown",
      "metadata": {
        "id": "M-jzbkMOK1Me"
      },
      "source": [
        "# Ejercicio: Una de las aplicaciones que se tenía en mente originalmente para HashCash era combatir el Spam en email. Describe cómo se podría utilizar HashCash para ayudar con este problema."
      ]
    },
    {
      "cell_type": "markdown",
      "metadata": {
        "id": "zHXaabI0K1Me"
      },
      "source": [
        ""
      ]
    },
    {
      "cell_type": "markdown",
      "metadata": {
        "id": "11pUn8B1K1Me"
      },
      "source": [
        "# Bonus:  Bitcoin, una de las aplicaciones que hace uso de HashCash usa la función SHA-256 para hacer hashing. También se usan IVs y contadores más grandes (alrededor de 64 bytes cada uno) para evitar la probabilidad de reuso de un IV. Extiende la longitud de los IVs y el CTR en tus cálculos y compara las diferencia de tiempo. ¿Es significativa?"
      ]
    },
    {
      "cell_type": "code",
      "execution_count": null,
      "metadata": {
        "id": "fd6mB3DdK1Mf"
      },
      "outputs": [],
      "source": [
        ""
      ]
    },
    {
      "cell_type": "markdown",
      "metadata": {
        "id": "DdeJ8KFlK1Mf"
      },
      "source": [
        "# Bonus: Ejercicio: Bitcoin mantiene una dificultad de hashing de modo que un bloque sea agregado al Blockchain mas o menos cada 10 minutos. Usando la extensión del problema anterior, y asumiendo una escala teórica del incremento del tiempo, ¿más o menos qué longitud debería tener el string de 0s para que demore 10 minutos encontrar una solución según tus tiempos?"
      ]
    }
  ],
  "metadata": {
    "interpreter": {
      "hash": "38a1d3478d2c06c885501f6356f1b1daff1d58337723414c0f70adf71d4be110"
    },
    "kernelspec": {
      "display_name": "Python 3.9.7 64-bit",
      "language": "python",
      "name": "python3"
    },
    "language_info": {
      "codemirror_mode": {
        "name": "ipython",
        "version": 3
      },
      "file_extension": ".py",
      "mimetype": "text/x-python",
      "name": "python",
      "nbconvert_exporter": "python",
      "pygments_lexer": "ipython3",
      "version": "3.9.7"
    },
    "orig_nbformat": 4,
    "colab": {
      "name": "lab5a.ipynb",
      "provenance": [],
      "collapsed_sections": [
        "M-jzbkMOK1Me",
        "11pUn8B1K1Me",
        "DdeJ8KFlK1Mf"
      ],
      "include_colab_link": true
    }
  },
  "nbformat": 4,
  "nbformat_minor": 0
}