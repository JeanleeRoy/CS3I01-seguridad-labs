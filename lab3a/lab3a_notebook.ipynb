{
 "cells": [
  {
   "cell_type": "markdown",
   "metadata": {},
   "source": [
    "# Lab 3: Implementado AES\n",
    "El propósito de este lab es implementar el cifrado AES. Vamos a empezar implementando la encriptación/decriptación de un solo bloque. Para esto necesitamos implementar, principalmente, las 4 funciones de ronda. Además hay dos rondas adicionales que no mencionamos en clase: la ronda inicial, que consiste de un AddRoundKey, y una ronda final, que es igual a las rondas normales pero sin MixColumns.  \n",
    "La pagina de Wikipedia de AES tiene una buena descripción de AES: https://en.wikipedia.org/wiki/Advanced_Encryption_Standard "
   ]
  },
  {
   "cell_type": "markdown",
   "metadata": {},
   "source": [
    "Recordar que cada ronda consiste de : SubBytes, ShiftRows, MixColumns y AddRoundKey respectivamente, aplicadas a un bloque de 16 bits en orden column-major.  \n",
    "* __SubBytes__: Consiste de una sustitución por byte del bloque. Esta función y su inversa ya están implementadas.\n",
    "* __ShiftRows__: Consiste de una traslación de cada fila del bloque, de 0 a 3 posiciones respectivamente. __Se requiere implementar la función ShiftRows__.\n",
    "* __MixColumns__: Consiste de una multiplicación de una matriz por cada columna del bloque, en el sentido de operaciones en GF(2<sup>8</sup>). Importante: multiplicación módulo un polinomio. Ya está implementada la función GaloisMultiply que toma dos polinomios. Adición es XOR. __Se requiere implementar las funciones MixColumns y MixColumn.__ La matriz de MixColumns es la siguiente:  \n",
    "\\begin{bmatrix}2 & 3 & 1 & 1\\\\\n",
    "1 & 2 & 3 & 1\\\\\n",
    "1 & 1 & 2 & 3\\\\\n",
    "3 & 1 & 1 & 2\n",
    "\\end{bmatrix}\n",
    "* __AddRoundKey__: Consiste de un BitXor de la llave de ronda con el bloque. \n",
    "__Se requiere implementar la función NewState.__ Toma un indice i, un estado s, y un array de llaves k y aplica la función de ronda a s con llave k[i]. \n",
    "Ojo que la ronda inicial también necesita una llave. \n",
    "\t \n",
    "La función que ejecuta el cifrado es AES128Encryption, toma un mensaje y una llave inicial. Para este lab vamos a usar 10 rondas. __Se requiere implementar lo que falta de esta función.__ \t\n",
    "\n",
    "Luego de implementar el cifrado, tenemos que implementar el descifrado. En este caso el descifrado es simplemente revertir el orden de las operaciones (y las rondas).\n",
    "Sin embargo, notar que a excepción de XOR, todos los pasos necesitan una versión especial inversa.\n",
    "* __invSubBytes__: ya está implementada. \n",
    "* __invShiftRows__: Es la inversa natural de ShiftRows. __Se requiere implementer la función invShiftRows.__\n",
    "* __invMixColumns__: Se multiplican las columnas por la matriz inversa. __Se requiere implementar la función invMixColumn y invMixColumns.__ La matriz inversa es la siguiente:  \n",
    "\\begin{bmatrix}14 & 11 & 13 & 9\\\\\n",
    "9 & 14 & 11 & 13\\\\\n",
    "13 & 9 & 14 & 11\\\\\n",
    "11 & 13 & 9 & 14\n",
    "\\end{bmatrix}\n",
    "    \n",
    "Tomar en cuenta: por simplicidad, state es un 1D Array. Es decir, que ya esta en \"column major\", e.j. state[[1;;4]] vendria a ser la primera columna como en AES,\n",
    "ya que AES toma el bloque en column-major. MixColumn toma una columna como un array. Esto no es relevante para las demás funciones, ya que trabajan byte por byte (o bit por bit).\n",
    "\n",
    "Abajo hay un ejemplo que puedes usar para probar que tanto la encriptación como la decriptación funcionan."
   ]
  },
  {
   "cell_type": "code",
   "execution_count": 36,
   "metadata": {},
   "outputs": [
    {
     "name": "stdout",
     "output_type": "stream",
     "text": [
      "cifrado:\t (¦\\<è\u001dgN\u001aé²ìÞ¤aÌ¼Ó°6¢¢ûä´ßT\n",
      "original:\t hello, my name is Jeanlee\n"
     ]
    }
   ],
   "source": [
    "from lab3a import *\n",
    "mykey = AES128KeyGeneration()\n",
    "ct = AES128Encryption(mykey, \"hello, my name is Jeanlee\")\n",
    "print(\"cifrado:\\t\", ct)\n",
    "pt = AES128Decryption(mykey, ct)\n",
    "print(\"original:\\t\", pt)"
   ]
  },
  {
   "cell_type": "markdown",
   "metadata": {},
   "source": [
    "### Testiando metodos internos"
   ]
  },
  {
   "cell_type": "code",
   "execution_count": 34,
   "metadata": {},
   "outputs": [
    {
     "name": "stdout",
     "output_type": "stream",
     "text": [
      "[4, 102, 129, 229]\n",
      "[212, 191, 93, 48]\n"
     ]
    }
   ],
   "source": [
    "from lab3a import *\n",
    "#temp = pad(strToInt(\"Hola como fue, que ha sido\"))\n",
    "#print(temp)\n",
    "#print(XOR(temp[0],temp[1]))\n",
    "\n",
    "lst = [0,1,2,3,10,11,12,13,20,21,22,23,30,31,32,33]\n",
    "#shifted = shiftRows(lst)\n",
    "#print(shifted)\n",
    "#print(invShiftRows(shifted))\n",
    "\n",
    "col = [212, 191, 93, 48]\n",
    "mix = mixCol(col)\n",
    "print(mix)    # [4, 102, 129, 229]\n",
    "print(invMixCol(mix))   # col"
   ]
  },
  {
   "cell_type": "markdown",
   "metadata": {},
   "source": [
    "# Bonus 1: Implementar modo CTR. Por simplicidad, no te preocupes de padding, y solo aplicalo para mensajes de longitud entera."
   ]
  },
  {
   "cell_type": "markdown",
   "metadata": {},
   "source": [
    "# Bonus 2: Implementar modo GCM, usando una función de hash de 128 bits en vez del GHASH que vimos en clase (a menos que quieras implementar GHASH). Puedes buscar Hash en la documentación para esto. "
   ]
  },
  {
   "cell_type": "markdown",
   "metadata": {},
   "source": [
    "# Bonus 3: Agregar padding a tus bloques. Puedes usar PKCS#7 que ya vimos en el lab anterior."
   ]
  }
 ],
 "metadata": {
  "interpreter": {
   "hash": "e30d083940a7e396050ca29a7630e8d4778685a5129aa59b52086bdd3fd8d501"
  },
  "kernelspec": {
   "display_name": "Python 3.10.0 64-bit",
   "language": "python",
   "name": "python3"
  },
  "language_info": {
   "codemirror_mode": {
    "name": "ipython",
    "version": 3
   },
   "file_extension": ".py",
   "mimetype": "text/x-python",
   "name": "python",
   "nbconvert_exporter": "python",
   "pygments_lexer": "ipython3",
   "version": "3.9.7"
  },
  "orig_nbformat": 4
 },
 "nbformat": 4,
 "nbformat_minor": 2
}
